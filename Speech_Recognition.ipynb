{
 "cells": [
  {
   "cell_type": "markdown",
   "id": "50c54c29-7fb1-4683-8fdf-172e87d4cdf3",
   "metadata": {},
   "source": [
    "Audio file formats:\n",
    "1. .mp3 - lossy format\n",
    "2. .flac - lossless format\n",
    "3. .wav - uncompressed format"
   ]
  },
  {
   "cell_type": "code",
   "execution_count": 1,
   "id": "743e090c-5e8f-42cf-80ac-89e723e89774",
   "metadata": {},
   "outputs": [],
   "source": [
    "import wave"
   ]
  },
  {
   "cell_type": "markdown",
   "id": "5e0990bd-7972-49df-8915-4059088a906c",
   "metadata": {},
   "source": [
    "Audio signal paarmeters:\n",
    "1. number of channels - Indicates the number of independent audio signals in the file\n",
    "2. sample width - Determines the precision of each audio sample\n",
    "3. framerate/sample rate - The number of samples taken per second\n",
    "4. number of frames - The total number of audio samples in the file\n",
    "5. values of  frame - The actual numerical data representing the amplitude of the audio signal at a specific point in time\n",
    "\n",
    "Each sample in a frame corresponds to a specific point in the waveform of the audio signal.\n",
    "The value of the sample represents the amplitude of the sound wave at that point, typically ranging from negative to positive values.\n",
    "The collection of these values for all samples in a frame creates the audio waveform."
   ]
  },
  {
   "cell_type": "markdown",
   "id": "7f1aaa41-b1a5-48d9-b8ed-8cb5979dd231",
   "metadata": {},
   "source": [
    "### Load wave file"
   ]
  },
  {
   "cell_type": "code",
   "execution_count": 89,
   "id": "5607816e-6bfe-49a1-bdda-94c95f321dbb",
   "metadata": {},
   "outputs": [],
   "source": [
    "obj = wave.open(\"C:\\\\Users\\\\Parishri\\\\OneDrive\\\\Desktop\\\\Desktop\\\\Study stuff\\\\audio recognition\\\\harvard.wav\", \"rb\")"
   ]
  },
  {
   "cell_type": "code",
   "execution_count": 90,
   "id": "a5cd3da8-8a7d-403a-8c1c-a3fb7fc23d20",
   "metadata": {},
   "outputs": [
    {
     "data": {
      "text/plain": [
       "<wave.Wave_read at 0x158295e4090>"
      ]
     },
     "execution_count": 90,
     "metadata": {},
     "output_type": "execute_result"
    }
   ],
   "source": [
    "obj"
   ]
  },
  {
   "cell_type": "code",
   "execution_count": 91,
   "id": "83ad37b3-2f4c-4058-820a-04956fcae94a",
   "metadata": {},
   "outputs": [
    {
     "name": "stdout",
     "output_type": "stream",
     "text": [
      "Number of channels  2\n",
      "Sample width  2\n",
      "Frame rate  44100\n",
      "Number of frames  809508\n",
      "Parameters:  _wave_params(nchannels=2, sampwidth=2, framerate=44100, nframes=809508, comptype='NONE', compname='not compressed')\n"
     ]
    }
   ],
   "source": [
    "n_channels = obj.getnchannels()\n",
    "sample_width = obj.getsampwidth()\n",
    "sample_freq = obj.getframerate()\n",
    "n_samples = obj.getnframes()\n",
    "\n",
    "print(\"Number of channels \", n_channels)\n",
    "print(\"Sample width \", sample_width)\n",
    "print(\"Frame rate \", sample_freq)\n",
    "print(\"Number of frames \", n_samples)\n",
    "print(\"Parameters: \", obj.getparams())"
   ]
  },
  {
   "cell_type": "code",
   "execution_count": 92,
   "id": "c2fd26ad-7630-4c57-8a86-8091a88a8728",
   "metadata": {},
   "outputs": [
    {
     "name": "stdout",
     "output_type": "stream",
     "text": [
      "18.356190476190477\n"
     ]
    }
   ],
   "source": [
    "## time duration of the audio\n",
    "t_audio = n_samples / sample_freq\n",
    "print(t_audio)"
   ]
  },
  {
   "cell_type": "code",
   "execution_count": 94,
   "id": "3cad9bc0-ac44-46d3-9436-39141a3c32d3",
   "metadata": {},
   "outputs": [
    {
     "name": "stdout",
     "output_type": "stream",
     "text": [
      "<class 'bytes'> <class 'int'>\n",
      "3238032\n"
     ]
    }
   ],
   "source": [
    "frames = obj.readframes(-1)\n",
    "print(type(frames), type(frames[0]))\n",
    "print(len(frames))"
   ]
  },
  {
   "cell_type": "code",
   "execution_count": 93,
   "id": "3dad5b53-bf85-47dd-b70d-e92755f22f30",
   "metadata": {},
   "outputs": [
    {
     "name": "stdout",
     "output_type": "stream",
     "text": [
      "<class 'bytes'>\n"
     ]
    }
   ],
   "source": [
    "print(type(frames))"
   ]
  },
  {
   "cell_type": "markdown",
   "id": "290a3fa5-b62f-4e84-9324-13d3fd128b81",
   "metadata": {},
   "source": [
    "### Creating new object and setting parameters"
   ]
  },
  {
   "cell_type": "code",
   "execution_count": 71,
   "id": "bf242b87-d438-4868-a580-29838b7fdbd4",
   "metadata": {},
   "outputs": [],
   "source": [
    "obj_new = wave.open(\"C:\\\\Users\\\\Parishri\\\\OneDrive\\\\Desktop\\\\Desktop\\\\Study stuff\\\\audio recognition\\\\harvard_new.wav\", \"wb\")"
   ]
  },
  {
   "cell_type": "code",
   "execution_count": 72,
   "id": "9833e843-29ff-423c-99ee-141998105ca1",
   "metadata": {},
   "outputs": [],
   "source": [
    "obj_new.setnchannels(1)\n",
    "obj_new.setsampwidth(2)\n",
    "obj_new.setframerate(16000.0)"
   ]
  },
  {
   "cell_type": "code",
   "execution_count": 73,
   "id": "df20e6c0-652c-41db-92dd-856db549363c",
   "metadata": {},
   "outputs": [],
   "source": [
    "obj_new.writeframes(frames)"
   ]
  },
  {
   "cell_type": "code",
   "execution_count": 74,
   "id": "6b0222a6-7bab-49fc-816b-32486856ae5b",
   "metadata": {},
   "outputs": [
    {
     "data": {
      "text/plain": [
       "<bound method Wave_write.close of <wave.Wave_write object at 0x000001582D9D4190>>"
      ]
     },
     "execution_count": 74,
     "metadata": {},
     "output_type": "execute_result"
    }
   ],
   "source": [
    "obj_new.close"
   ]
  },
  {
   "cell_type": "markdown",
   "id": "630a3623-1c9b-4267-8461-c0af76410746",
   "metadata": {},
   "source": [
    "### Plot the audio file"
   ]
  },
  {
   "cell_type": "code",
   "execution_count": 75,
   "id": "41a5bdb6-e058-414b-9546-2c2155b49ac5",
   "metadata": {},
   "outputs": [],
   "source": [
    "import wave\n",
    "import matplotlib.pyplot as plt\n",
    "import numpy as np"
   ]
  },
  {
   "cell_type": "code",
   "execution_count": 107,
   "id": "5114f8a3-6987-48ac-830e-a8f13d3772d7",
   "metadata": {},
   "outputs": [],
   "source": [
    "signal_wave = frames"
   ]
  },
  {
   "cell_type": "code",
   "execution_count": 108,
   "id": "c2c9c3e8-fbcf-4389-8728-31618fa0f4d5",
   "metadata": {},
   "outputs": [
    {
     "data": {
      "text/plain": [
       "3238032"
      ]
     },
     "execution_count": 108,
     "metadata": {},
     "output_type": "execute_result"
    }
   ],
   "source": [
    "len(signal_wave)"
   ]
  },
  {
   "cell_type": "code",
   "execution_count": 99,
   "id": "10a371a5-a3ec-481f-b93a-c8604225cb24",
   "metadata": {},
   "outputs": [
    {
     "data": {
      "text/plain": [
       "<bound method Wave_read.close of <wave.Wave_read object at 0x00000158295E4090>>"
      ]
     },
     "execution_count": 99,
     "metadata": {},
     "output_type": "execute_result"
    }
   ],
   "source": [
    "obj.close"
   ]
  },
  {
   "cell_type": "code",
   "execution_count": 100,
   "id": "e5722aac-019b-46e1-84df-5d7dd2f6cbe9",
   "metadata": {},
   "outputs": [
    {
     "name": "stdout",
     "output_type": "stream",
     "text": [
      "<class 'bytes'>\n"
     ]
    }
   ],
   "source": [
    "print(type(signal_wave))"
   ]
  },
  {
   "cell_type": "code",
   "execution_count": 101,
   "id": "fc77e851-ac88-4aa1-bc08-5d98477134c8",
   "metadata": {},
   "outputs": [
    {
     "name": "stdout",
     "output_type": "stream",
     "text": [
      "<class 'numpy.ndarray'>\n"
     ]
    }
   ],
   "source": [
    "#converting signal array from bytes to numpy array\n",
    "signal_array = np.frombuffer(signal_wave, dtype=np.int16)\n",
    "print(type(signal_array))"
   ]
  },
  {
   "cell_type": "code",
   "execution_count": 102,
   "id": "ba95fd6e-1e1f-4d0e-a0ad-f80f54d4fe0c",
   "metadata": {},
   "outputs": [
    {
     "data": {
      "text/plain": [
       "1619016"
      ]
     },
     "execution_count": 102,
     "metadata": {},
     "output_type": "execute_result"
    }
   ],
   "source": [
    "len(signal_array)"
   ]
  },
  {
   "cell_type": "code",
   "execution_count": 103,
   "id": "c7edc63e-100b-41d8-8ef0-38a9419f5065",
   "metadata": {},
   "outputs": [],
   "source": [
    "times = np.linspace(0, t_audio, num=n_samples)"
   ]
  },
  {
   "cell_type": "code",
   "execution_count": 105,
   "id": "9d8b4ddd-d8bd-4155-89bb-1f9eb44ee30e",
   "metadata": {},
   "outputs": [
    {
     "data": {
      "text/plain": [
       "809508"
      ]
     },
     "execution_count": 105,
     "metadata": {},
     "output_type": "execute_result"
    }
   ],
   "source": [
    "len(times)"
   ]
  },
  {
   "cell_type": "code",
   "execution_count": 110,
   "id": "a2da2de8-73e6-4a85-ac5f-aa9105916507",
   "metadata": {},
   "outputs": [],
   "source": [
    "signal_array_subset = signal_array[:len(times)]"
   ]
  },
  {
   "cell_type": "code",
   "execution_count": 111,
   "id": "27a885b3-0d3d-4f5b-bf8f-90ab30c44697",
   "metadata": {},
   "outputs": [
    {
     "data": {
      "image/png": "[encoded data removed]",
      "text/plain": [
       "<Figure size 1500x500 with 1 Axes>"
      ]
     },
     "metadata": {},
     "output_type": "display_data"
    }
   ],
   "source": [
    "plt.figure(figsize=(15, 5))\n",
    "plt.plot(times, signal_array_subset)\n",
    "plt.title(\"Audio Signal\")\n",
    "plt.ylabel(\"Signal Wave\")\n",
    "plt.xlabel(\"Time(s)\")\n",
    "plt.xlim(0, t_audio)\n",
    "plt.show()"
   ]
  },
  {
   "cell_type": "markdown",
   "id": "8bf693c8-4b51-4a34-9abc-b242e26a6ffc",
   "metadata": {},
   "source": [
    "### Record Mic"
   ]
  },
  {
   "cell_type": "code",
   "execution_count": 112,
   "id": "a6368bd5-e40b-445b-b4ac-849bd6972895",
   "metadata": {},
   "outputs": [],
   "source": [
    "import pyaudio"
   ]
  },
  {
   "cell_type": "code",
   "execution_count": 113,
   "id": "723cdaad-3f78-4b84-aa20-66c79d8e714c",
   "metadata": {},
   "outputs": [],
   "source": [
    "FRAMES_PER_BUFFER = 3200\n",
    "FORMAT = pyaudio.paInt16\n",
    "CHANNELS = 1\n",
    "RATE = 16000"
   ]
  },
  {
   "cell_type": "code",
   "execution_count": 119,
   "id": "0757039a-02e0-40c2-a62a-8c3ea78668db",
   "metadata": {},
   "outputs": [
    {
     "name": "stdout",
     "output_type": "stream",
     "text": [
      "start recording\n"
     ]
    }
   ],
   "source": [
    "p = pyaudio.PyAudio()\n",
    "\n",
    "stream = p.open(\n",
    "    format = FORMAT,\n",
    "    channels = CHANNELS,\n",
    "    rate = RATE,\n",
    "    input = True, \n",
    "    frames_per_buffer = FRAMES_PER_BUFFER \n",
    ")\n",
    "\n",
    "print(\"start recording\")\n",
    "\n",
    "seconds = 5\n",
    "frames = []\n",
    "for i in range(0, int(RATE/FRAMES_PER_BUFFER*seconds)):\n",
    "    data = stream.read(FRAMES_PER_BUFFER)\n",
    "    frames.append(data)\n",
    "\n",
    "stream.stop_stream()\n",
    "stream.close()\n",
    "p.terminate()\n",
    "\n",
    "obj_rec = wave.open(\"C:\\\\Users\\\\Parishri\\\\OneDrive\\\\Desktop\\\\Desktop\\\\Study stuff\\\\audio recognition\\\\recording.wav\", \"wb\")\n",
    "obj_rec.setnchannels(CHANNELS)\n",
    "obj_rec.setsampwidth(p.get_sample_size(FORMAT))\n",
    "obj_rec.setframerate(RATE)\n",
    "obj_rec.writeframes(b\"\".join(frames))\n",
    "obj_rec.close()"
   ]
  },
  {
   "cell_type": "markdown",
   "id": "a3391ff6-f820-466b-9ac4-fd8ae547d9d9",
   "metadata": {},
   "source": [
    "### Load mp3 files"
   ]
  },
  {
   "cell_type": "code",
   "execution_count": 4,
   "id": "62c52ff7-7967-4f32-9eac-67054c91579a",
   "metadata": {},
   "outputs": [
    {
     "data": {
      "text/plain": [
       "<_io.BufferedRandom name='C:\\\\Users\\\\Parishri\\\\OneDrive\\\\Desktop\\\\Desktop\\\\Study stuff\\\\audio recognition\\\\mashup.mp3'>"
      ]
     },
     "execution_count": 4,
     "metadata": {},
     "output_type": "execute_result"
    }
   ],
   "source": [
    "from pydub import AudioSegment\n",
    "\n",
    "audio = AudioSegment.from_wav(\"C:\\\\Users\\\\Parishri\\\\OneDrive\\\\Desktop\\\\Desktop\\\\Study stuff\\\\audio recognition\\\\harvard.wav\")\n",
    "## .from_mp3 for mp3 files\n",
    "\n",
    "## increase the volume by 6dB\n",
    "audio = audio + 6\n",
    "\n",
    "audio = audio * 2\n",
    "\n",
    "audio = audio.fade_in(2000)\n",
    "\n",
    "audio.export(\"C:\\\\Users\\\\Parishri\\\\OneDrive\\\\Desktop\\\\Desktop\\\\Study stuff\\\\audio recognition\\\\mashup.mp3\", format=\"mp3\")"
   ]
  },
  {
   "cell_type": "code",
   "execution_count": 6,
   "id": "0eef30aa-1d3a-4427-a56a-f5b5e007c5ff",
   "metadata": {},
   "outputs": [
    {
     "name": "stdout",
     "output_type": "stream",
     "text": [
      "done\n"
     ]
    }
   ],
   "source": [
    "audio2 = AudioSegment.from_mp3(\"C:\\\\Users\\\\Parishri\\\\OneDrive\\\\Desktop\\\\Desktop\\\\Study stuff\\\\audio recognition\\\\mashup.mp3\")\n",
    "print(\"done\")"
   ]
  },
  {
   "cell_type": "markdown",
   "id": "0acc0bd9-8a53-46a6-9b8e-afdcc6db6a34",
   "metadata": {},
   "source": [
    "### Converting speech to text"
   ]
  },
  {
   "cell_type": "code",
   "execution_count": 20,
   "id": "e2d4dc2c-c94f-443e-8483-7b7eb026edfe",
   "metadata": {},
   "outputs": [],
   "source": [
    "API_KEY_ASSEMBLYAI = \"827987b5f53d47b0befc924a0a8f790d\"\n",
    "\n",
    "## upload file\n",
    "import requests\n",
    "import time\n",
    "import sys\n",
    "\n",
    "filename = \"C:\\\\Users\\\\Parishri\\\\OneDrive\\\\Desktop\\\\Desktop\\\\Study stuff\\\\audio recognition\\\\harvard.wav\"\n",
    "\n",
    "upload_endpoint = 'https://api.assemblyai.com/v2/upload'\n",
    "\n",
    "headers_auth_only = {'authorization': API_KEY_ASSEMBLYAI}\n",
    "\n",
    "CHUNK_SIZE = 5_242_880  # 5MB\n",
    "\n",
    "def upload(filename):\n",
    "    def read_file(filename):\n",
    "        with open(filename, 'rb') as f:\n",
    "            while True:\n",
    "                data = f.read(CHUNK_SIZE)\n",
    "                if not data:\n",
    "                    break\n",
    "                yield data\n",
    "\n",
    "    upload_response = requests.post(upload_endpoint, headers=headers_auth_only, data=read_file(filename))\n",
    "    audio_url = upload_response.json()['upload_url']\n",
    "    return audio_url"
   ]
  },
  {
   "cell_type": "code",
   "execution_count": 28,
   "id": "898680b5-02f5-4242-b37c-fc927522201e",
   "metadata": {},
   "outputs": [],
   "source": [
    "## transcribe\n",
    "transcript_endpoint = 'https://api.assemblyai.com/v2/transcript'\n",
    "\n",
    "headers = {\n",
    "    \"authorization\": API_KEY_ASSEMBLYAI,\n",
    "    \"content-type\": \"application/json\"\n",
    "}\n",
    "\n",
    "def transcribe(audio_url, sentiment_analysis):\n",
    "    transcript_request = {\n",
    "        'audio_url': audio_url,\n",
    "        'sentiment_analysis': sentiment_analysis\n",
    "    }\n",
    "\n",
    "    transcript_response = requests.post(transcript_endpoint, json=transcript_request, headers=headers)\n",
    "    job_id = transcript_response.json()['id']\n",
    "    return job_id"
   ]
  },
  {
   "cell_type": "code",
   "execution_count": 22,
   "id": "cf06fe06-ff7d-429a-b815-1023678d0d2a",
   "metadata": {},
   "outputs": [],
   "source": [
    "## poll\n",
    "\n",
    "def poll(transcript_id):\n",
    "    polling_endpoint = transcript_endpoint + '/' + transcript_id\n",
    "    polling_response = requests.get(polling_endpoint, headers=headers)\n",
    "    return polling_response.json()\n",
    "\n",
    "def get_transcription_result_url(url, sentiment_analysis):\n",
    "    transcribe_id = transcribe(url, sentiment_analysis)\n",
    "    while True:\n",
    "        data = poll(transcribe_id)\n",
    "        if data['status'] == 'completed':\n",
    "            return data, None\n",
    "        elif data['status'] == 'error':\n",
    "            return data, data['error']\n",
    "            \n",
    "        print(\"waiting for 30 seconds\")\n",
    "        time.sleep(30)"
   ]
  },
  {
   "cell_type": "code",
   "execution_count": 24,
   "id": "be41842c-2c0b-4221-be15-faf2c95eb9ef",
   "metadata": {},
   "outputs": [],
   "source": [
    "import json \n",
    "\n",
    "def save_transcript(url, title, sentiment_analysis=False):\n",
    "    data, error = get_transcription_result_url(url, sentiment_analysis)\n",
    "    \n",
    "    if data:\n",
    "        filename = title + '.txt'\n",
    "        with open(filename, 'w') as f:\n",
    "            f.write(data['text'])\n",
    "\n",
    "        if sentiment_analysis:\n",
    "            filename = title + \"_sentiments.json\"\n",
    "            with open(filename, \"w\") as f: \n",
    "                sentiments = data[\"sentiment_analysis_results\"]\n",
    "                json.dump(sentiments, f, indent=4)\n",
    "        print('Transcript saved')\n",
    "    elif error:\n",
    "        print(\"Error!!!\", error) "
   ]
  },
  {
   "cell_type": "code",
   "execution_count": 49,
   "id": "f70264f2-a2b6-4419-8826-4b089c703392",
   "metadata": {},
   "outputs": [
    {
     "name": "stdout",
     "output_type": "stream",
     "text": [
      "waiting for 30 seconds\n",
      "Transcript saved\n"
     ]
    }
   ],
   "source": [
    "audio_file = upload(filename)\n",
    "save_transcript(audio_url, filename)"
   ]
  },
  {
   "cell_type": "markdown",
   "id": "6aa22173-8534-4992-888d-f4d413129d6f",
   "metadata": {},
   "source": []
  },
  {
   "cell_type": "code",
   "execution_count": 2,
   "id": "8ad40658-b553-4b78-a13a-2414f838d6df",
   "metadata": {},
   "outputs": [],
   "source": [
    "import yt_dlp"
   ]
  },
  {
   "cell_type": "code",
   "execution_count": 3,
   "id": "5fbf28c5-0f5c-4156-a801-d38ef9d18b6f",
   "metadata": {},
   "outputs": [],
   "source": [
    "ydl = yt_dlp.YoutubeDL()"
   ]
  },
  {
   "cell_type": "markdown",
   "id": "34b8458a-b507-4bf2-a5df-94de0bb714c8",
   "metadata": {},
   "source": [
    "using YoutubeDL package to extract the infos"
   ]
  },
  {
   "cell_type": "code",
   "execution_count": 8,
   "id": "31aa18bd-2019-4402-ad26-c49bbfa18310",
   "metadata": {},
   "outputs": [],
   "source": [
    "def get_video_infos(url):\n",
    "  with ydl:\n",
    "    result = ydl.extract_info(\n",
    "      url,\n",
    "      download = False\n",
    "      )\n",
    "    if \"entries\" in result:\n",
    "      return result[\"entries\"][0]\n",
    "    return result"
   ]
  },
  {
   "cell_type": "code",
   "execution_count": 16,
   "id": "f0c7c206-24d8-41c8-80a7-ba89ace7bd35",
   "metadata": {},
   "outputs": [],
   "source": [
    "def get_audio_url(video_info):\n",
    " for f in video_info['formats']:\n",
    "   if f[\"ext\"] == \"m4a\":\n",
    "     return f[\"url\"]"
   ]
  },
  {
   "cell_type": "code",
   "execution_count": 17,
   "id": "657f0490-4eb1-42a7-b802-e33e291109d6",
   "metadata": {},
   "outputs": [
    {
     "name": "stdout",
     "output_type": "stream",
     "text": [
      "[youtube] Extracting URL: https://www.youtube.com/watch?v=e-kSGNzu0hM\n",
      "[youtube] e-kSGNzu0hM: Downloading webpage\n",
      "[youtube] e-kSGNzu0hM: Downloading ios player API JSON\n",
      "[youtube] e-kSGNzu0hM: Downloading web creator player API JSON\n",
      "[youtube] e-kSGNzu0hM: Downloading m3u8 information\n",
      "https://rr7---sn-ci5gup-qxae7.googlevideo.com/videoplayback?expire=1723469564&ei=nLq5ZouZLc7nrtoP3s_vwA4&ip=122.184.69.98&id=o-AMYUKYSa74qX8aU9WZ5nD6sIsMFtvt_TOb15Iryn1eQ_&itag=139&source=youtube&requiressl=yes&xpc=EgVo2aDSNQ%3D%3D&mh=j-&mm=31%2C26&mn=sn-ci5gup-qxae7%2Csn-cvh7kn66&ms=au%2Conr&mv=m&mvi=7&pl=24&pcm2=no&initcwndbps=5693750&vprv=1&svpuc=1&xtags=drc%3D1&mime=audio%2Fmp4&rqh=1&gir=yes&clen=2423576&dur=397.339&lmt=1663474724197948&mt=1723447516&fvip=3&keepalive=yes&c=IOS&txp=4532434&sparams=expire%2Cei%2Cip%2Cid%2Citag%2Csource%2Crequiressl%2Cxpc%2Cpcm2%2Cvprv%2Csvpuc%2Cxtags%2Cmime%2Crqh%2Cgir%2Cclen%2Cdur%2Clmt&sig=AJfQdSswRAIgCDgn34o7HoTDcfMxhhDDS8tke43aeUdAwQxHybI1cSECIB_LTyfXm25EH9NDxTexd-ucUNrFS1Rj3kn7lMwmC5Im&lsparams=mh%2Cmm%2Cmn%2Cms%2Cmv%2Cmvi%2Cpl%2Cinitcwndbps&lsig=AGtxev0wRAIgNQUaIy62-bW32Zb0o4KRZo4VqNNtxWCQvjN2VjylQaECIApcowo0m17PEyMAZWnRt4UdJviS3WHVvdQiPMdLR-MV\n"
     ]
    }
   ],
   "source": [
    "if __name__ == \"__main__\":\n",
    " video_info = get_video_infos(\"https://www.youtube.com/watch?v=e-kSGNzu0hM\")\n",
    " audio_url = get_audio_url(video_info)\n",
    " print(audio_url)"
   ]
  },
  {
   "cell_type": "code",
   "execution_count": 25,
   "id": "b3cd752a-3111-4183-9cf5-a3d398c1079e",
   "metadata": {},
   "outputs": [],
   "source": [
    "import json \n",
    "\n",
    "def save_video_sentiments(url):\n",
    "  video_infos = get_video_infos(url)\n",
    "  audio_url = get_audio_url(video_infos)\n",
    "  title = video_infos[\"title\"]\n",
    "  title = \"data/\" + title\n",
    "  save_transcript(audio_url, title, sentiment_analysis=True)"
   ]
  },
  {
   "cell_type": "code",
   "execution_count": 29,
   "id": "058008a5-f51b-42fc-8d44-86dc20f8b998",
   "metadata": {},
   "outputs": [
    {
     "name": "stdout",
     "output_type": "stream",
     "text": [
      "[youtube] Extracting URL: https://www.youtube.com/watch?v=e-kSGNzu0hM\n",
      "[youtube] e-kSGNzu0hM: Downloading webpage\n",
      "[youtube] e-kSGNzu0hM: Downloading ios player API JSON\n",
      "[youtube] e-kSGNzu0hM: Downloading web creator player API JSON\n",
      "[youtube] e-kSGNzu0hM: Downloading m3u8 information\n",
      "waiting for 30 seconds\n",
      "waiting for 30 seconds\n",
      "waiting for 30 seconds\n",
      "waiting for 30 seconds\n",
      "waiting for 30 seconds\n",
      "waiting for 30 seconds\n",
      "waiting for 30 seconds\n"
     ]
    },
    {
     "ename": "FileNotFoundError",
     "evalue": "[Errno 2] No such file or directory: 'data/iPhone 13 Review: Pros and Cons.txt'",
     "output_type": "error",
     "traceback": [
      "\u001b[1;31m---------------------------------------------------------------------------\u001b[0m",
      "\u001b[1;31mFileNotFoundError\u001b[0m                         Traceback (most recent call last)",
      "Cell \u001b[1;32mIn[29], line 2\u001b[0m\n\u001b[0;32m      1\u001b[0m \u001b[38;5;28;01mif\u001b[39;00m \u001b[38;5;18m__name__\u001b[39m \u001b[38;5;241m==\u001b[39m \u001b[38;5;124m\"\u001b[39m\u001b[38;5;124m__main__\u001b[39m\u001b[38;5;124m\"\u001b[39m:\n\u001b[1;32m----> 2\u001b[0m    save_video_sentiments(\u001b[38;5;124m\"\u001b[39m\u001b[38;5;124mhttps://www.youtube.com/watch?v=e-kSGNzu0hM\u001b[39m\u001b[38;5;124m\"\u001b[39m)\n",
      "Cell \u001b[1;32mIn[25], line 8\u001b[0m, in \u001b[0;36msave_video_sentiments\u001b[1;34m(url)\u001b[0m\n\u001b[0;32m      6\u001b[0m title \u001b[38;5;241m=\u001b[39m video_infos[\u001b[38;5;124m\"\u001b[39m\u001b[38;5;124mtitle\u001b[39m\u001b[38;5;124m\"\u001b[39m]\n\u001b[0;32m      7\u001b[0m title \u001b[38;5;241m=\u001b[39m \u001b[38;5;124m\"\u001b[39m\u001b[38;5;124mdata/\u001b[39m\u001b[38;5;124m\"\u001b[39m \u001b[38;5;241m+\u001b[39m title\n\u001b[1;32m----> 8\u001b[0m save_transcript(audio_url, title, sentiment_analysis\u001b[38;5;241m=\u001b[39m\u001b[38;5;28;01mTrue\u001b[39;00m)\n",
      "Cell \u001b[1;32mIn[24], line 8\u001b[0m, in \u001b[0;36msave_transcript\u001b[1;34m(url, title, sentiment_analysis)\u001b[0m\n\u001b[0;32m      6\u001b[0m \u001b[38;5;28;01mif\u001b[39;00m data:\n\u001b[0;32m      7\u001b[0m     filename \u001b[38;5;241m=\u001b[39m title \u001b[38;5;241m+\u001b[39m \u001b[38;5;124m'\u001b[39m\u001b[38;5;124m.txt\u001b[39m\u001b[38;5;124m'\u001b[39m\n\u001b[1;32m----> 8\u001b[0m     \u001b[38;5;28;01mwith\u001b[39;00m \u001b[38;5;28mopen\u001b[39m(filename, \u001b[38;5;124m'\u001b[39m\u001b[38;5;124mw\u001b[39m\u001b[38;5;124m'\u001b[39m) \u001b[38;5;28;01mas\u001b[39;00m f:\n\u001b[0;32m      9\u001b[0m         f\u001b[38;5;241m.\u001b[39mwrite(data[\u001b[38;5;124m'\u001b[39m\u001b[38;5;124mtext\u001b[39m\u001b[38;5;124m'\u001b[39m])\n\u001b[0;32m     11\u001b[0m     \u001b[38;5;28;01mif\u001b[39;00m sentiment_analysis:\n",
      "File \u001b[1;32m~\\anaconda3\\envs\\speech\\Lib\\site-packages\\IPython\\core\\interactiveshell.py:324\u001b[0m, in \u001b[0;36m_modified_open\u001b[1;34m(file, *args, **kwargs)\u001b[0m\n\u001b[0;32m    317\u001b[0m \u001b[38;5;28;01mif\u001b[39;00m file \u001b[38;5;129;01min\u001b[39;00m {\u001b[38;5;241m0\u001b[39m, \u001b[38;5;241m1\u001b[39m, \u001b[38;5;241m2\u001b[39m}:\n\u001b[0;32m    318\u001b[0m     \u001b[38;5;28;01mraise\u001b[39;00m \u001b[38;5;167;01mValueError\u001b[39;00m(\n\u001b[0;32m    319\u001b[0m         \u001b[38;5;124mf\u001b[39m\u001b[38;5;124m\"\u001b[39m\u001b[38;5;124mIPython won\u001b[39m\u001b[38;5;124m'\u001b[39m\u001b[38;5;124mt let you open fd=\u001b[39m\u001b[38;5;132;01m{\u001b[39;00mfile\u001b[38;5;132;01m}\u001b[39;00m\u001b[38;5;124m by default \u001b[39m\u001b[38;5;124m\"\u001b[39m\n\u001b[0;32m    320\u001b[0m         \u001b[38;5;124m\"\u001b[39m\u001b[38;5;124mas it is likely to crash IPython. If you know what you are doing, \u001b[39m\u001b[38;5;124m\"\u001b[39m\n\u001b[0;32m    321\u001b[0m         \u001b[38;5;124m\"\u001b[39m\u001b[38;5;124myou can use builtins\u001b[39m\u001b[38;5;124m'\u001b[39m\u001b[38;5;124m open.\u001b[39m\u001b[38;5;124m\"\u001b[39m\n\u001b[0;32m    322\u001b[0m     )\n\u001b[1;32m--> 324\u001b[0m \u001b[38;5;28;01mreturn\u001b[39;00m io_open(file, \u001b[38;5;241m*\u001b[39margs, \u001b[38;5;241m*\u001b[39m\u001b[38;5;241m*\u001b[39mkwargs)\n",
      "\u001b[1;31mFileNotFoundError\u001b[0m: [Errno 2] No such file or directory: 'data/iPhone 13 Review: Pros and Cons.txt'"
     ]
    }
   ],
   "source": [
    "if __name__ == \"__main__\":\n",
    "   save_video_sentiments(\"https://www.youtube.com/watch?v=e-kSGNzu0hM\")"
   ]
  },
  {
   "cell_type": "code",
   "execution_count": null,
   "id": "aae3dfad-022a-4d02-b3a2-92825bb5d694",
   "metadata": {},
   "outputs": [],
   "source": []
  }
 ],
 "metadata": {
  "kernelspec": {
   "display_name": "Python 3 (ipykernel)",
   "language": "python",
   "name": "python3"
  },
  "language_info": {
   "codemirror_mode": {
    "name": "ipython",
    "version": 3
   },
   "file_extension": ".py",
   "mimetype": "text/x-python",
   "name": "python",
   "nbconvert_exporter": "python",
   "pygments_lexer": "ipython3",
   "version": "3.11.4"
  }
 },
 "nbformat": 4,
 "nbformat_minor": 5
}
